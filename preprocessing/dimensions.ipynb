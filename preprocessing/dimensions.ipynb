{
 "cells": [
  {
   "cell_type": "code",
   "execution_count": 4,
   "metadata": {},
   "outputs": [],
   "source": [
    "import numpy as np\n",
    "import pandas as pd\n",
    "import os"
   ]
  },
  {
   "cell_type": "code",
   "execution_count": 15,
   "metadata": {},
   "outputs": [],
   "source": [
    "csv_dir_path = \"../data/Part_4\""
   ]
  },
  {
   "cell_type": "code",
   "execution_count": 16,
   "metadata": {},
   "outputs": [],
   "source": [
    "csv_paths = []\n",
    "\n",
    "for patNum in range(1,16):\n",
    "    csv_paths.append(os.path.join(csv_dir_path, str(patNum)+\".csv\"))"
   ]
  },
  {
   "cell_type": "code",
   "execution_count": 17,
   "metadata": {},
   "outputs": [
    {
     "name": "stdout",
     "output_type": "stream",
     "text": [
      "Dimensions of part 4\n",
      "(3, 21000)\n",
      "(3, 6000)\n",
      "(3, 62000)\n",
      "(3, 23000)\n",
      "(3, 68000)\n",
      "(3, 9000)\n",
      "(3, 9000)\n",
      "(3, 5000)\n",
      "(3, 50000)\n",
      "(3, 51000)\n",
      "(3, 50000)\n",
      "(3, 9000)\n",
      "(3, 1000)\n",
      "(3, 55000)\n",
      "(3, 62000)\n"
     ]
    }
   ],
   "source": [
    "print(\"Dimensions of part 4\")\n",
    "for i in range(15):\n",
    "    Y = np.genfromtxt(csv_paths[i], delimiter=\",\")\n",
    "    df = pd.DataFrame(Y)\n",
    "    print(df.shape)"
   ]
  }
 ],
 "metadata": {
  "interpreter": {
   "hash": "916dbcbb3f70747c44a77c7bcd40155683ae19c65e1c03b4aa3499c5328201f1"
  },
  "kernelspec": {
   "display_name": "Python 3.8.10 64-bit",
   "name": "python3"
  },
  "language_info": {
   "codemirror_mode": {
    "name": "ipython",
    "version": 3
   },
   "file_extension": ".py",
   "mimetype": "text/x-python",
   "name": "python",
   "nbconvert_exporter": "python",
   "pygments_lexer": "ipython3",
   "version": "3.8.10"
  },
  "orig_nbformat": 4
 },
 "nbformat": 4,
 "nbformat_minor": 2
}
