{
 "cells": [
  {
   "cell_type": "code",
   "execution_count": 1,
   "metadata": {},
   "outputs": [],
   "source": [
    "import numpy as np\n",
    "import matplotlib.pyplot as plt\n",
    "from scipy import signal\n",
    "import csv\n",
    "import glob"
   ]
  },
  {
   "cell_type": "code",
   "execution_count": 2,
   "metadata": {},
   "outputs": [],
   "source": [
    "\n",
    "# All files ending with .csv with depth of 2 folder\n",
    "csv_paths = []\n",
    "csv_paths = glob.glob(\"../Complete_Data/*/*.csv\")\n"
   ]
  },
  {
   "cell_type": "code",
   "execution_count": 3,
   "metadata": {},
   "outputs": [],
   "source": [
    "for i in range(len(csv_paths)):\n",
    "    Y = np.genfromtxt(csv_paths[i], delimiter=\",\")\n",
    "   \n",
    "    # Calculating the number of readings in a file\n",
    "    input_file = open(csv_paths[i],\"r+\")\n",
    "    reader_file = csv.reader(input_file)\n",
    "    lines = len(next(reader_file))\n",
    "    #print(lines)\n",
    "    ppg_Signal=[]\n",
    "    BP_Signal=[]\n",
    "    ECG_Signal=[]\n",
    "    for i in range(0,lines,500):\n",
    "        # Extracting row cooresponding to PPG signal because the first row of csv file is PPG signal\n",
    "        if(i+500<lines):\n",
    "            ppg_Signal = Y[0,i:i+500]\n",
    "            # Extracting row cooresponding to BP signal\n",
    "            BP_Signal  = Y[1,i:i+500]\n",
    "            # Extracting row cooresponding to ECG signal\n",
    "            ECG_Signal = Y[2,i:i+500]\n",
    "            i+=500\n",
    "        \n",
    "            \"\"\"if(len(ppg_Signal)!=500):\n",
    "                print(len(ppg_Signal))\n",
    "            \"\"\"\n",
    "            \n",
    "            \n",
    "            # Diastolic time feature Extraction _______________________\n",
    "            \n",
    "            # Find local maximum or local maximum of PPG signals\n",
    "            \n",
    "            PPG1=np.gradient(ppg_Signal)\n",
    "            [peak, loc] = signal.find_peaks(PPG1) #getting maxima or minima\n",
    "\n",
    "            # Finding the local minimum of the PPG signals\n",
    "            PPG2=np.gradient(PPG1)\n",
    "            \n",
    "            [peak_minimum, loc1] = signal.find_peaks(PPG2) #getting minima\n",
    "            peak_maximum=[]\n",
    "            \n",
    "            #Since we got minima, now the rest values in peak are maximas\n",
    "            for i in peak:\n",
    "                if i not in peak_minimum:\n",
    "                    peak_maximum.append(i)\n",
    "            \n",
    "            diastolic_time=[]\n",
    "            #print(len(peak_maximum))\n",
    "            \n",
    "            for i in range (0,min(len(peak_maximum),len(peak_minimum))-1):\n",
    "                diastolic_time.append(abs(peak_maximum[i]-peak_minimum[i+1]))\n",
    "            #print(len(peak_maximum),' ',len(peak_minimum))\n",
    "            \n",
    "            dia_time = []\n",
    "            for i in range (4):\n",
    "                sum=0\n",
    "                \n",
    "                for j in range (i*len(diastolic_time)//4,(i+1)*len(diastolic_time)//4):\n",
    "                    sum=sum+ diastolic_time[i]\n",
    "                sum=sum//(len(diastolic_time)//4)\n",
    "                dia_time.append(sum)\n",
    "            \n",
    "            with open('../Features_Datasets/diastolic_time.csv', 'a') as f: \n",
    "                for i in range(4):\n",
    "                    f.write(str(dia_time[i])+\",\")\n",
    "                    f.write(\"\\n\")\n",
    "            \n",
    "        else:\n",
    "            i=i+500    \n",
    "\n",
    "        \n",
    "    "
   ]
  },
  {
   "cell_type": "code",
   "execution_count": null,
   "metadata": {},
   "outputs": [],
   "source": []
  }
 ],
 "metadata": {
  "interpreter": {
   "hash": "916dbcbb3f70747c44a77c7bcd40155683ae19c65e1c03b4aa3499c5328201f1"
  },
  "kernelspec": {
   "display_name": "Python 3.8.10 64-bit",
   "name": "python3"
  },
  "language_info": {
   "codemirror_mode": {
    "name": "ipython",
    "version": 3
   },
   "file_extension": ".py",
   "mimetype": "text/x-python",
   "name": "python",
   "nbconvert_exporter": "python",
   "pygments_lexer": "ipython3",
   "version": "3.8.10"
  },
  "orig_nbformat": 4
 },
 "nbformat": 4,
 "nbformat_minor": 2
}
