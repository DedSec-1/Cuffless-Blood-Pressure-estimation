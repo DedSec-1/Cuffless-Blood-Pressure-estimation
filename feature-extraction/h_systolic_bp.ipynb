{
 "cells": [
  {
   "cell_type": "code",
   "execution_count": 1,
   "metadata": {},
   "outputs": [],
   "source": [
    "import numpy as np\n",
    "import matplotlib.pyplot as plt\n",
    "from scipy import signal\n",
    "import csv\n",
    "import glob"
   ]
  },
  {
   "cell_type": "code",
   "execution_count": 2,
   "metadata": {},
   "outputs": [],
   "source": [
    "\n",
    "# All files ending with .csv with depth of 2 folder\n",
    "csv_paths = []\n",
    "csv_paths = glob.glob(\"../Complete_Data/*/*.csv\")\n"
   ]
  },
  {
   "cell_type": "code",
   "execution_count": 3,
   "metadata": {},
   "outputs": [],
   "source": [
    "for i in range(len(csv_paths)):\n",
    "    Y = np.genfromtxt(csv_paths[i], delimiter=\",\")\n",
    "\n",
    "    # Calculating the number of readings in a file\n",
    "    input_file = open(csv_paths[i], \"r+\")\n",
    "    reader_file = csv.reader(input_file)\n",
    "    lines = len(next(reader_file))\n",
    "    # print(lines)\n",
    "    ppg_Signal = []\n",
    "    BP_Signal = []\n",
    "    ppg_Signal = []\n",
    "    for i in range(0, lines, 500):\n",
    "        # Extracting row cooresponding to PPG signal because the first row of csv file is PPG signal\n",
    "        if(i+500 < lines):\n",
    "            ppg_Signal = Y[0, i:i+500]\n",
    "            # Extracting row cooresponding to BP signal\n",
    "            BP_Signal = Y[1, i:i+500]\n",
    "            # Extracting row cooresponding to ppg signal\n",
    "            ppg_Signal = Y[2, i:i+500]\n",
    "            i += 500\n",
    "\n",
    "            \"\"\"if(len(ppg_Signal)!=500):\n",
    "                print(len(ppg_Signal))\n",
    "            \"\"\"\n",
    "\n",
    "            # SBP feature Extraction _______________________\n",
    "            systolic_BP=[]\n",
    "            for i in range (4):\n",
    "                max_bp=BP_Signal[i*125]\n",
    "                for j in range (i*125,(i+1)*125):\n",
    "                    max_bp=max(max_bp,BP_Signal[i])\n",
    "                systolic_BP.append(max_bp)\n",
    "                    \n",
    "            #print(len(systolic_BP))\n",
    "            with open('../Features_Datasets/systolic_BP.csv', 'a') as f:\n",
    "                for i in range(4):\n",
    "                    f.write(str(systolic_BP[i])+\",\")\n",
    "                    f.write(\"\\n\")\n",
    "\n",
    "        else:\n",
    "            i = i+500\n"
   ]
  },
  {
   "cell_type": "code",
   "execution_count": null,
   "metadata": {},
   "outputs": [],
   "source": []
  }
 ],
 "metadata": {
  "interpreter": {
   "hash": "916dbcbb3f70747c44a77c7bcd40155683ae19c65e1c03b4aa3499c5328201f1"
  },
  "kernelspec": {
   "display_name": "Python 3.8.10 64-bit",
   "name": "python3"
  },
  "language_info": {
   "codemirror_mode": {
    "name": "ipython",
    "version": 3
   },
   "file_extension": ".py",
   "mimetype": "text/x-python",
   "name": "python",
   "nbconvert_exporter": "python",
   "pygments_lexer": "ipython3",
   "version": "3.8.10"
  },
  "orig_nbformat": 4
 },
 "nbformat": 4,
 "nbformat_minor": 2
}
