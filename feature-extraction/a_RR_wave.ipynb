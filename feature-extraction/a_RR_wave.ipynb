{
 "cells": [
  {
   "cell_type": "code",
   "execution_count": 1,
   "metadata": {},
   "outputs": [],
   "source": [
    "import scipy as sp\n",
    "import numpy as np\n",
    "import os\n",
    "from scipy import signal\n",
    "import csv\n",
    "from os import listdir\n",
    "from os.path import isfile,join\n",
    "import glob"
   ]
  },
  {
   "cell_type": "code",
   "execution_count": 2,
   "metadata": {},
   "outputs": [],
   "source": [
    "\n",
    "# All files ending with .csv with depth of 2 folder\n",
    "csv_paths = []\n",
    "csv_paths = glob.glob(\"../data/*/*.csv\")"
   ]
  },
  {
   "cell_type": "code",
   "execution_count": 3,
   "metadata": {},
   "outputs": [],
   "source": [
    "for i in range(len(csv_paths)):\n",
    "    Y = np.genfromtxt(csv_paths[i], delimiter=\",\")\n",
    "\n",
    "    # Calculating the number of readings in a file\n",
    "    input_file = open(csv_paths[i], \"r+\")\n",
    "    reader_file = csv.reader(input_file)\n",
    "    lines = len(next(reader_file))\n",
    "    # print(lines)\n",
    "    ppg_Signal = []\n",
    "    BP_Signal = []\n",
    "    ECG_Signal = []\n",
    "    for i in range(0, lines, 500):\n",
    "        # Extracting row cooresponding to PPG signal because the first row of csv file is PPG signal\n",
    "        if(i+500 < lines):\n",
    "            ppg_Signal = Y[0, i:i+500]\n",
    "            # Extracting row cooresponding to BP signal\n",
    "            BP_Signal = Y[1, i:i+500]\n",
    "            # Extracting row cooresponding to ECG signal\n",
    "            ECG_Signal = Y[2, i:i+500]\n",
    "            i += 500\n",
    "\n",
    "            \"\"\"if(len(ppg_Signal)!=125):\n",
    "                print(len(ppg_Signal))\n",
    "            \"\"\"\n",
    "\n",
    "            # Find peaks or local maximum of PPG signals\n",
    "            [peaks, location] = signal.find_peaks(ECG_Signal)\n",
    "\n",
    "            # print(len(peaks))\n",
    "\n",
    "            # RR wave feature Extraction _______________________\n",
    "            RR_Wave_duration = []\n",
    "\n",
    "            # Here we are choosing 4 because the minimum number of peaks\n",
    "            # observed for 125 data points is 5.\n",
    "            # So if we subtract consecutive datapoints we get 4 values.\n",
    "\n",
    "            for i in range(4):\n",
    "                RR_Wave_duration.append(int(peaks[i+1])-int(peaks[i]))\n",
    "                #print(s_no[i],' ',RR_Wave_duration[i])\n",
    "\n",
    "            with open('../FinalDataset/RR.csv', 'a') as f:\n",
    "                for i in range(4):\n",
    "                    f.write(str(RR_Wave_duration[i])+\",\")\n",
    "                    f.write(\"\\n\")\n",
    "        else:\n",
    "            i = i+500\n"
   ]
  },
  {
   "cell_type": "code",
   "execution_count": null,
   "metadata": {},
   "outputs": [],
   "source": []
  }
 ],
 "metadata": {
  "interpreter": {
   "hash": "916dbcbb3f70747c44a77c7bcd40155683ae19c65e1c03b4aa3499c5328201f1"
  },
  "kernelspec": {
   "display_name": "Python 3.8.10 64-bit",
   "name": "python3"
  },
  "language_info": {
   "codemirror_mode": {
    "name": "ipython",
    "version": 3
   },
   "file_extension": ".py",
   "mimetype": "text/x-python",
   "name": "python",
   "nbconvert_exporter": "python",
   "pygments_lexer": "ipython3",
   "version": "3.8.10"
  },
  "orig_nbformat": 4
 },
 "nbformat": 4,
 "nbformat_minor": 2
}
