{
 "cells": [
  {
   "cell_type": "code",
   "execution_count": 1,
   "metadata": {},
   "outputs": [],
   "source": [
    "import pandas as pd \n",
    "from sklearn import datasets\n",
    "from sklearn.model_selection import train_test_split \n",
    "from sklearn.linear_model import LinearRegression  \n",
    "import numpy as np \n",
    "from sklearn.preprocessing import StandardScaler\n",
    "from sklearn.svm import SVR \n",
    "from sklearn.metrics import mean_squared_error, r2_score\n",
    "import csv"
   ]
  },
  {
   "cell_type": "code",
   "execution_count": 2,
   "metadata": {},
   "outputs": [],
   "source": [
    "dataset = pd.read_csv('../data/cleaned_further.csv',names = ['ind','alpha','PIR', 'ptt', 'bpmax' ,'bpmin', 'hrfinal', 'ih', 'il', 'meu', 'j', 'k','l','m','n','o','p','q','r'])\n",
    "\n",
    "X = dataset[[  'ind','alpha','PIR', 'ptt', 'hrfinal', 'ih', 'il', 'meu', 'j']]\n",
    "\n",
    "y = dataset[['bpmin']]"
   ]
  },
  {
   "cell_type": "code",
   "execution_count": 3,
   "metadata": {},
   "outputs": [
    {
     "name": "stdout",
     "output_type": "stream",
     "text": [
      "<_csv.reader object at 0x7f5c16757190>\n"
     ]
    }
   ],
   "source": [
    "sbp = list()\n",
    "dbp = list()\n",
    "real_BP = list()\n",
    "with open('../data/cleaned_further.csv', 'r') as csvfile:\n",
    "\tcsv_reader = csv.reader(csvfile, delimiter = ',')\n",
    "\tprint (csv_reader)\n",
    "\tfor row in csv_reader:\n",
    "\t\t#ptt.append(float(row[2]))\n",
    "\t\tsbp.append(float(row[4]))\n",
    "\t\tdbp.append(float(row[5]))\n",
    "\n",
    "\t\n",
    "\treal_BP = list()\n",
    "\tfor i in range(len(sbp)):\n",
    "\t\tBP_actual = (2*dbp[i] + sbp[i])/3\n",
    "\t\treal_BP.append(BP_actual)\n",
    "\t\t"
   ]
  },
  {
   "cell_type": "code",
   "execution_count": 4,
   "metadata": {},
   "outputs": [],
   "source": [
    "sc_X=StandardScaler()\n",
    "sc_y=StandardScaler()\n",
    "X=sc_X.fit_transform(X)\n",
    "\n",
    "X_train, X_test, y_train, y_test = train_test_split(X, real_BP, test_size=0.2, random_state=0) \n",
    "\n",
    "regressor = SVR(kernel = 'rbf')\n",
    "\n",
    "#print dataset.isnull().any()\n",
    "regressor.fit(X_train, y_train)\n",
    "y_pred = regressor.predict(X_test)\n",
    "\n"
   ]
  },
  {
   "cell_type": "code",
   "execution_count": 5,
   "metadata": {},
   "outputs": [
    {
     "name": "stdout",
     "output_type": "stream",
     "text": [
      "Support Vector Regression\n",
      "Accuracy: 83.05322194189293\n",
      "Mean Squared Error: 477.6398046204577\n",
      "Root Mean Squared Error: 21.854972080065846\n",
      "Variance score: 0.05\n"
     ]
    }
   ],
   "source": [
    "#print('Coefficients: \\n', regressor.coef_)\n",
    "# The mean squared error\n",
    "from sklearn import metrics  \n",
    "print('Support Vector Regression')\n",
    "print('Accuracy:',(100- metrics.mean_absolute_error(y_test, y_pred)))  \n",
    "print('Mean Squared Error:', metrics.mean_squared_error(y_test, y_pred))  \n",
    "print('Root Mean Squared Error:', np.sqrt(metrics.mean_squared_error(y_test, y_pred)))\n",
    "\n",
    "\n",
    "\n",
    "# # Explained variance score: 1 is perfect prediction\n",
    "print('Variance score: %.2f' % r2_score(y_test, y_pred))"
   ]
  },
  {
   "cell_type": "code",
   "execution_count": null,
   "metadata": {},
   "outputs": [],
   "source": []
  }
 ],
 "metadata": {
  "interpreter": {
   "hash": "916dbcbb3f70747c44a77c7bcd40155683ae19c65e1c03b4aa3499c5328201f1"
  },
  "kernelspec": {
   "display_name": "Python 3.8.10 64-bit",
   "language": "python",
   "name": "python3"
  },
  "language_info": {
   "codemirror_mode": {
    "name": "ipython",
    "version": 3
   },
   "file_extension": ".py",
   "mimetype": "text/x-python",
   "name": "python",
   "nbconvert_exporter": "python",
   "pygments_lexer": "ipython3",
   "version": "3.8.10"
  },
  "orig_nbformat": 4
 },
 "nbformat": 4,
 "nbformat_minor": 2
}
