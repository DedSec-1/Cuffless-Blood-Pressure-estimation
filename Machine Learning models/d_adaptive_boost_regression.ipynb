{
 "cells": [
  {
   "cell_type": "code",
   "execution_count": 1,
   "metadata": {},
   "outputs": [],
   "source": [
    "import pandas as pd \n",
    "from sklearn import datasets\n",
    "from sklearn.model_selection import train_test_split \n",
    "from sklearn.linear_model import LinearRegression  \n",
    "import numpy as np  \n",
    "from sklearn.metrics import mean_squared_error, r2_score\n",
    "import csv\n",
    "from sklearn.tree import DecisionTreeRegressor\n",
    "from sklearn.ensemble import AdaBoostRegressor"
   ]
  },
  {
   "cell_type": "code",
   "execution_count": 3,
   "metadata": {},
   "outputs": [],
   "source": [
    "dataset = pd.read_csv('../data/cleaned_further.csv',names = ['ind','alpha','PIR', 'ptt', 'bpmax' ,'bpmin', 'hrfinal', 'ih', 'il', 'meu', 'j', 'k','l','m','n','o','p','q','r'])\n",
    "\n",
    "\n",
    "X = dataset[[  'ind','alpha','PIR', 'ptt', 'hrfinal', 'ih', 'il', 'meu', 'j']]\n",
    "\n",
    "y = dataset[['bpmin']]"
   ]
  },
  {
   "cell_type": "code",
   "execution_count": 5,
   "metadata": {},
   "outputs": [
    {
     "name": "stdout",
     "output_type": "stream",
     "text": [
      "<_csv.reader object at 0x7fed37425040>\n"
     ]
    }
   ],
   "source": [
    "sbp = list()\n",
    "dbp = list()\n",
    "real_BP = list()\n",
    "with open('../data/cleaned_further.csv', 'r') as csvfile:\n",
    "\tcsv_reader = csv.reader(csvfile, delimiter = ',')\n",
    "\tprint (csv_reader)\n",
    "\tfor row in csv_reader:\n",
    "\t\t#ptt.append(float(row[2]))\n",
    "\t\tsbp.append(float(row[4]))\n",
    "\t\tdbp.append(float(row[5]))\n",
    "\n",
    "\t\n",
    "\treal_BP = list()\n",
    "\tfor i in range(len(sbp)):\n",
    "\t\tBP_actual = (2*dbp[i] + sbp[i])/3\n",
    "\t\treal_BP.append(BP_actual)\n",
    "\t\t"
   ]
  },
  {
   "cell_type": "code",
   "execution_count": 8,
   "metadata": {},
   "outputs": [],
   "source": [
    "X_train, X_test, y_train, y_test = train_test_split(X, real_BP, test_size=0.1, random_state=1) \n",
    "\n",
    "from sklearn.preprocessing import StandardScaler\n",
    "sc_X=StandardScaler()\n",
    "x_train=sc_X.fit_transform(X_train)\n",
    "x_test=sc_X.transform(X_test)\n",
    "\n",
    "rng = np.random.RandomState(1)\n",
    "regr_1 = DecisionTreeRegressor(max_depth=4)\n",
    "\n",
    "regr_2 = AdaBoostRegressor(DecisionTreeRegressor(max_depth=4),\n",
    "                          n_estimators=300, random_state=rng)\n",
    "\n",
    "regr_1.fit(X_train, y_train)\n",
    "regr_2.fit(X_train, y_train)\n",
    "\n",
    "# Predict\n",
    "y_pred = regr_1.predict(X_test)\n",
    "y_pre = regr_2.predict(X_test)"
   ]
  },
  {
   "cell_type": "code",
   "execution_count": 9,
   "metadata": {},
   "outputs": [
    {
     "name": "stdout",
     "output_type": "stream",
     "text": [
      "AdaBoost Regressor\n",
      "Accuracy: 83.65175930099626\n",
      "Mean Squared Error: 381.6853455485311\n",
      "Root Mean Squared Error: 19.53676906626403\n",
      "Variance score: 0.25\n"
     ]
    }
   ],
   "source": [
    "#print('Coefficients: \\n', regressor.coef_)\n",
    "# The mean squared error\n",
    "from sklearn import metrics  \n",
    "print('AdaBoost Regressor')\n",
    "print('Accuracy:', (100-metrics.mean_absolute_error(y_test, y_pre)))  \n",
    "print('Mean Squared Error:', metrics.mean_squared_error(y_test, y_pre))  \n",
    "print('Root Mean Squared Error:', np.sqrt(metrics.mean_squared_error(y_test, y_pre)))\n",
    "\n",
    "\n",
    "\n",
    "# # Explained variance score: 1 is perfect prediction\n",
    "print('Variance score: %.2f' % r2_score(y_test, y_pred))\n"
   ]
  },
  {
   "cell_type": "code",
   "execution_count": null,
   "metadata": {},
   "outputs": [],
   "source": []
  }
 ],
 "metadata": {
  "interpreter": {
   "hash": "916dbcbb3f70747c44a77c7bcd40155683ae19c65e1c03b4aa3499c5328201f1"
  },
  "kernelspec": {
   "display_name": "Python 3.8.10 64-bit",
   "language": "python",
   "name": "python3"
  },
  "language_info": {
   "codemirror_mode": {
    "name": "ipython",
    "version": 3
   },
   "file_extension": ".py",
   "mimetype": "text/x-python",
   "name": "python",
   "nbconvert_exporter": "python",
   "pygments_lexer": "ipython3",
   "version": "3.8.10"
  },
  "orig_nbformat": 4
 },
 "nbformat": 4,
 "nbformat_minor": 2
}
