{
 "cells": [
  {
   "cell_type": "code",
   "execution_count": 7,
   "metadata": {},
   "outputs": [],
   "source": [
    "import numpy as np\n",
    "import pandas as pd\n",
    "import pickle\n",
    "import csv\n",
    "from sklearn.model_selection import train_test_split \n"
   ]
  },
  {
   "cell_type": "code",
   "execution_count": 3,
   "metadata": {},
   "outputs": [],
   "source": [
    "ada_reg = pickle.load(open(\"./saved/adaboost.pkl\", \"rb\"))\n",
    "lin_reg = pickle.load(open(\"./saved/lin_reg.pkl\", \"rb\"))\n",
    "ridge_reg = pickle.load(open(\"./saved/ridge_reg.pkl\", \"rb\"))\n",
    "sv_reg = pickle.load(open(\"./saved/sv_reg.pkl\", \"rb\"))\n",
    "\n",
    "dataset = pd.read_csv('../data/cleaned_further.csv',names = ['ind','alpha','PIR', 'ptt', 'bpmax' ,'bpmin', 'hrfinal', 'ih', 'il', 'meu', 'j', 'k','l','m','n','o','p','q','r'])\n",
    "\n",
    "\n",
    "X = dataset[[  'ind','alpha','PIR', 'ptt', 'hrfinal', 'ih', 'il', 'meu', 'j']]\n",
    "\n",
    "y = dataset[['bpmin']]"
   ]
  },
  {
   "cell_type": "code",
   "execution_count": 6,
   "metadata": {},
   "outputs": [
    {
     "name": "stdout",
     "output_type": "stream",
     "text": [
      "<_csv.reader object at 0x7ff97bcc6040>\n"
     ]
    }
   ],
   "source": [
    "sbp = list()\n",
    "dbp = list()\n",
    "real_BP = list()\n",
    "with open('../data/cleaned_further.csv', 'r') as csvfile:\n",
    "\tcsv_reader = csv.reader(csvfile, delimiter = ',')\n",
    "\tprint (csv_reader)\n",
    "\tfor row in csv_reader:\n",
    "\t\t#ptt.append(float(row[2]))\n",
    "\t\tsbp.append(float(row[4]))\n",
    "\t\tdbp.append(float(row[5]))\n",
    "\n",
    "\t\n",
    "\treal_BP = list()\n",
    "\tfor i in range(len(sbp)):\n",
    "\t\tBP_actual = (2*dbp[i] + sbp[i])/3\n",
    "\t\treal_BP.append(BP_actual)\n",
    "\t\t"
   ]
  },
  {
   "cell_type": "code",
   "execution_count": 8,
   "metadata": {},
   "outputs": [],
   "source": [
    "X_train, X_test, y_train, y_test = train_test_split(X, real_BP, test_size=0.2, random_state=0) \n",
    "\n",
    "from sklearn.preprocessing import StandardScaler\n",
    "sc_X=StandardScaler()\n",
    "x_train=sc_X.fit_transform(X_train)\n",
    "x_test=sc_X.transform(X_test)\n"
   ]
  },
  {
   "cell_type": "code",
   "execution_count": null,
   "metadata": {},
   "outputs": [],
   "source": []
  },
  {
   "cell_type": "code",
   "execution_count": null,
   "metadata": {},
   "outputs": [],
   "source": [
    "y_pred1 = ada_reg.predict(x_test)\n",
    "y_pred2 = lin_reg.predict(x_test)\n",
    "y_pred3 = ridge_reg.predict(x_test)\n",
    "y_pred4 = regressor.predict(x_test)\n"
   ]
  }
 ],
 "metadata": {
  "interpreter": {
   "hash": "3b88cf69ff892cc6b698f6c6f6ae344c3f7baf5a957a25cf05a391b77c022069"
  },
  "kernelspec": {
   "display_name": "Python 3.8.10 ('lakebrains-live')",
   "language": "python",
   "name": "python3"
  },
  "language_info": {
   "codemirror_mode": {
    "name": "ipython",
    "version": 3
   },
   "file_extension": ".py",
   "mimetype": "text/x-python",
   "name": "python",
   "nbconvert_exporter": "python",
   "pygments_lexer": "ipython3",
   "version": "3.8.10"
  },
  "orig_nbformat": 4
 },
 "nbformat": 4,
 "nbformat_minor": 2
}
