{
 "cells": [
  {
   "cell_type": "code",
   "execution_count": 3,
   "source": [
    "import scipy as sp\r\n",
    "import numpy as np\r\n",
    "import os\r\n",
    "import matplotlib.pyplot as plt\r\n",
    "from scipy import signal\r\n",
    "from scipy import fftpack\r\n",
    "import math"
   ],
   "outputs": [],
   "metadata": {}
  },
  {
   "cell_type": "code",
   "execution_count": 4,
   "source": [
    "csv_dir_path = \"../data/Part_1\""
   ],
   "outputs": [],
   "metadata": {}
  },
  {
   "cell_type": "code",
   "execution_count": 5,
   "source": [
    "csv_paths = './output/bp.csv'\r\n",
    "\r\n",
    "Y = np.genfromtxt(csv_paths, delimiter=\",\")\r\n",
    "Y"
   ],
   "outputs": [
    {
     "output_type": "execute_result",
     "data": {
      "text/plain": [
       "array([[ 74.243     ,  62.5968    ,  88.731851  ,          nan],\n",
       "       [ 64.66416667,  66.80794444,  91.50079   ,          nan],\n",
       "       [ 63.7985    ,  60.98      ,  80.439208  ,          nan],\n",
       "       [ 80.29973333,  63.68173333,  93.257371  ,          nan],\n",
       "       [ 37.07728125,  68.73809375,  90.337021  ,          nan],\n",
       "       [ 43.11251724,  73.18003571,  95.425072  ,          nan],\n",
       "       [ 41.36776667,  74.46268966,  94.727283  ,          nan],\n",
       "       [ 58.64056667,  75.64393548,  90.346695  ,          nan],\n",
       "       [ 51.44678571,  78.10789286,  90.086468  ,          nan],\n",
       "       [ 52.93445161,  41.01990625, 100.144852  ,          nan],\n",
       "       [ 32.45296774,  57.07244444, 103.486352  ,          nan],\n",
       "       [ 38.75647368,  47.19353846, 104.396638  ,          nan],\n",
       "       [ 17.71612   ,  56.62294595,  95.365429  ,          nan],\n",
       "       [ 33.28393182,  78.52025   ,  95.809059  ,          nan],\n",
       "       [ 40.81122857,  67.12202857,  95.545344  ,          nan]])"
      ]
     },
     "metadata": {},
     "execution_count": 5
    }
   ],
   "metadata": {}
  },
  {
   "cell_type": "code",
   "execution_count": 8,
   "source": [
    "total=0.0\r\n",
    "for x,y,z,w in Y:\r\n",
    "    total=total+(z-max(x,y))\r\n",
    "    \r\n",
    "total/=15\r\n",
    "print(100-total)"
   ],
   "outputs": [
    {
     "output_type": "stream",
     "name": "stdout",
     "text": [
      "73.67653675163402\n"
     ]
    }
   ],
   "metadata": {}
  },
  {
   "cell_type": "code",
   "execution_count": null,
   "source": [],
   "outputs": [],
   "metadata": {}
  }
 ],
 "metadata": {
  "orig_nbformat": 4,
  "language_info": {
   "name": "python",
   "version": "3.8.11",
   "mimetype": "text/x-python",
   "codemirror_mode": {
    "name": "ipython",
    "version": 3
   },
   "pygments_lexer": "ipython3",
   "nbconvert_exporter": "python",
   "file_extension": ".py"
  },
  "kernelspec": {
   "name": "python3",
   "display_name": "Python 3.8.11 64-bit ('Sample': conda)"
  },
  "interpreter": {
   "hash": "7a01a7114b68094f2d48675bf297ee2f85bfb899f3133d55f277aa0cdaeded48"
  }
 },
 "nbformat": 4,
 "nbformat_minor": 2
}