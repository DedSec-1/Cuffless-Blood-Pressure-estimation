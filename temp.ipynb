{
 "cells": [
  {
   "cell_type": "code",
   "execution_count": 3,
   "metadata": {},
   "outputs": [],
   "source": [
    "import pandas as pd \n",
    "from sklearn import datasets\n",
    "from sklearn.model_selection import train_test_split \n",
    "from sklearn.linear_model import LinearRegression  \n",
    "import numpy as np  \n",
    "from sklearn.metrics import mean_squared_error, r2_score\n",
    "import csv\n",
    "import glob\n",
    "import os\n"
   ]
  },
  {
   "cell_type": "code",
   "execution_count": 50,
   "metadata": {},
   "outputs": [],
   "source": [
    "import csv\n",
    "import itertools\n",
    "\n",
    "# put files in the order you want concatentated\n",
    "csv_names = ['Features_Datasets/ABP.csv','Features_Datasets/diastolic_time.csv','Features_Datasets/ecg_1st_der.csv','Features_Datasets/ecg_2nd_der.csv','Features_Datasets/ppg_1st_der.csv','Features_Datasets/ppg_2nd_der.csv','Features_Datasets/RR.csv','Features_Datasets/systolic_upstroke_time.csv'] \n",
    "\n",
    "\n",
    "readers = [csv.reader(open(fn, 'r')) for fn in csv_names]\n",
    "writer = csv.writer(open('result.csv', 'w'),delimiter=' ')\n",
    "\n",
    "for row_chunks in zip(*readers):\n",
    "    writer.writerow(list(itertools.chain.from_iterable(row_chunks)))\n",
    "\n"
   ]
  },
  {
   "cell_type": "code",
   "execution_count": null,
   "metadata": {},
   "outputs": [],
   "source": []
  }
 ],
 "metadata": {
  "interpreter": {
   "hash": "916dbcbb3f70747c44a77c7bcd40155683ae19c65e1c03b4aa3499c5328201f1"
  },
  "kernelspec": {
   "display_name": "Python 3.8.10 64-bit",
   "language": "python",
   "name": "python3"
  },
  "language_info": {
   "codemirror_mode": {
    "name": "ipython",
    "version": 3
   },
   "file_extension": ".py",
   "mimetype": "text/x-python",
   "name": "python",
   "nbconvert_exporter": "python",
   "pygments_lexer": "ipython3",
   "version": "3.8.10"
  },
  "orig_nbformat": 4
 },
 "nbformat": 4,
 "nbformat_minor": 2
}
